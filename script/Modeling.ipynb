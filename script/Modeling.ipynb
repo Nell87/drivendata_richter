{
  "nbformat": 4,
  "nbformat_minor": 0,
  "metadata": {
    "colab": {
      "provenance": [],
      "authorship_tag": "ABX9TyN7wWGgaBmWFQXbKRSoo80O",
      "include_colab_link": true
    },
    "kernelspec": {
      "name": "python3",
      "display_name": "Python 3"
    },
    "language_info": {
      "name": "python"
    }
  },
  "cells": [
    {
      "cell_type": "markdown",
      "metadata": {
        "id": "view-in-github",
        "colab_type": "text"
      },
      "source": [
        "<a href=\"https://colab.research.google.com/github/Nell87/drivendata_richter/blob/main/script/Modeling.ipynb\" target=\"_parent\"><img src=\"https://colab.research.google.com/assets/colab-badge.svg\" alt=\"Open In Colab\"/></a>"
      ]
    },
    {
      "cell_type": "markdown",
      "source": [
        "# Baseline Model (Random Forest)\n",
        "This first model will be used as comparison for the performance of next ones. "
      ],
      "metadata": {
        "id": "lRyft3IS34ew"
      }
    },
    {
      "cell_type": "markdown",
      "source": [
        "### **INCLUDES**\n"
      ],
      "metadata": {
        "id": "qAILZll0g7Gy"
      }
    },
    {
      "cell_type": "code",
      "execution_count": 1,
      "metadata": {
        "id": "8et4lG9L3N2E"
      },
      "outputs": [],
      "source": [
        "####    0. INCLUDES  _______________________________________ #### \n",
        "#Loading Libraries:# \n",
        "import pandas as pd\n",
        "import time   #  provides many ways of representing time in code\n",
        "\n",
        "from sklearn.model_selection import train_test_split\n",
        "from sklearn.model_selection import GridSearchCV\n",
        "from sklearn.ensemble import RandomForestClassifier\n",
        "from sklearn.tree import DecisionTreeClassifier\n",
        "\n",
        "from sklearn.metrics import f1_score   # the score used in the competition\n",
        "\n",
        "####   1. READING TRAIN AND TEST DATA _______________________________________ #### \n",
        "train_values= data = pd.read_csv(\"https://raw.githubusercontent.com/Nell87/drivendata_richter/main/data/train_values.csv\",index_col='building_id')\n",
        "train_labels = pd.read_csv(\"https://raw.githubusercontent.com/Nell87/drivendata_richter/main/data/train_labels.csv\",index_col='building_id')\n",
        "test = pd.read_csv(\"https://raw.githubusercontent.com/Nell87/drivendata_richter/main/data/test_values.csv\",index_col='building_id')"
      ]
    },
    {
      "cell_type": "markdown",
      "source": [
        "### **PREPROCESSING**\n",
        "Let's dummify and split in train/test"
      ],
      "metadata": {
        "id": "ooMxAcDHewWE"
      }
    },
    {
      "cell_type": "code",
      "source": [
        "#### 2.  PREPROCESSING DATA     _______________________________________ #### \n",
        "# Dummify\n",
        "train_values = pd.get_dummies(train_values, drop_first = True)\n",
        "\n",
        "# Split in train/test\n",
        "x_train, x_test, y_train, y_test = train_test_split(train_values, train_labels, test_size = 0.2, random_state = 42)"
      ],
      "metadata": {
        "id": "K45c_2om4uks"
      },
      "execution_count": 2,
      "outputs": []
    },
    {
      "cell_type": "markdown",
      "source": [
        "### **MODELING**\n",
        "Let's train the baseline model: Random Forest. I'll obtain the best parameters through GridSearch using my own computer to speed up the process."
      ],
      "metadata": {
        "id": "tBrWhw8sdq9Y"
      }
    },
    {
      "cell_type": "code",
      "source": [
        "#### 3.  MODELING     _______________________________________ #### \n",
        "# Create the RF object\n",
        "# rf_clf = RandomForestClassifier(random_state=314) \n",
        "\n",
        "# Best parameters (auto deprecated???) # 1141 seg (19 m)\n",
        "#param_grid = { \n",
        "#     'n_estimators': [100, 200],\n",
        "#    'max_features': ['none', 'auto', 'sqrt', 'log2'],\n",
        "#    'max_depth' : [1,10],\n",
        "#    'min_samples_leaf' : [10,20]\n",
        "#}\n",
        "\n",
        "#start_time = time.time()\n",
        "#rf_clf_GS = GridSearchCV(rf_clf, param_grid, cv=5)\n",
        "#rf_clf_GS.fit(x_train, y_train)\n",
        "#dt_time_fit = time.time() - start_time\n",
        "#rf_clf_GS.best_params_\n",
        "\n",
        "# Train using the best parameters  # 12 seg\n",
        "rf_clf_1 = RandomForestClassifier(random_state=314, n_estimators = 100,\n",
        "                                  max_features = 'auto', max_depth = 10,\n",
        "                                  min_samples_leaf = 20)\n",
        "                                  \n",
        "                                  \n",
        "start_time = time.time()\n",
        "rf_clf_1 = rf_clf_1.fit(x_train, y_train)  \n",
        "rf_clf_1_time_fit = time.time() - start_time       "
      ],
      "metadata": {
        "colab": {
          "base_uri": "https://localhost:8080/"
        },
        "id": "58YVkdigdBi_",
        "outputId": "9cd411c9-770a-41ca-f188-20491400d05b"
      },
      "execution_count": 3,
      "outputs": [
        {
          "output_type": "stream",
          "name": "stderr",
          "text": [
            "<ipython-input-3-1a1459b8b8a8>:26: DataConversionWarning: A column-vector y was passed when a 1d array was expected. Please change the shape of y to (n_samples,), for example using ravel().\n",
            "  rf_clf_1 = rf_clf_1.fit(x_train, y_train)\n"
          ]
        }
      ]
    },
    {
      "cell_type": "markdown",
      "source": [
        "### **PREDICTIONS**"
      ],
      "metadata": {
        "id": "3ZK_OFcng1zy"
      }
    },
    {
      "cell_type": "code",
      "source": [
        "#### 4.  PREDICTIONS     _______________________________________ #### \n",
        "\n",
        "#Predictions to check # 0.631\n",
        "pred_rf_clf_1 = rf_clf_1.predict(x_test)\n",
        "f1_score(y_test,pred_rf_clf_1, average='micro')\n",
        "\n",
        "# Predictions to send # 0.6312 on competition (1469 / 5974)\n",
        "test = pd.get_dummies(test, drop_first = True)\n",
        "pred_rf_clf_1_final = rf_clf_1.predict(test)\n",
        "\n",
        "my_submission = pd.read_csv(\"https://raw.githubusercontent.com/Nell87/drivendata_richter/main/data/submission_format.csv\",\n",
        "                            index_col='building_id')\n",
        "                            \n",
        "my_submission = pd.DataFrame(data=pred_rf_clf_1_final,\n",
        "                             columns=my_submission.columns,\n",
        "                             index=my_submission.index)\n",
        "\n",
        "my_submission.head()\n",
        "# my_submission.to_csv('../data/submission_rf_clf_1.csv')"
      ],
      "metadata": {
        "colab": {
          "base_uri": "https://localhost:8080/",
          "height": 237
        },
        "id": "ZVA7do3lgcuS",
        "outputId": "8fc86e02-4aa0-4423-968b-285bf16d62fe"
      },
      "execution_count": 4,
      "outputs": [
        {
          "output_type": "execute_result",
          "data": {
            "text/plain": [
              "             damage_grade\n",
              "building_id              \n",
              "300051                  3\n",
              "99355                   2\n",
              "890251                  2\n",
              "745817                  1\n",
              "421793                  3"
            ],
            "text/html": [
              "\n",
              "  <div id=\"df-db5247a9-e8f4-4607-adf5-da41e6a245f8\">\n",
              "    <div class=\"colab-df-container\">\n",
              "      <div>\n",
              "<style scoped>\n",
              "    .dataframe tbody tr th:only-of-type {\n",
              "        vertical-align: middle;\n",
              "    }\n",
              "\n",
              "    .dataframe tbody tr th {\n",
              "        vertical-align: top;\n",
              "    }\n",
              "\n",
              "    .dataframe thead th {\n",
              "        text-align: right;\n",
              "    }\n",
              "</style>\n",
              "<table border=\"1\" class=\"dataframe\">\n",
              "  <thead>\n",
              "    <tr style=\"text-align: right;\">\n",
              "      <th></th>\n",
              "      <th>damage_grade</th>\n",
              "    </tr>\n",
              "    <tr>\n",
              "      <th>building_id</th>\n",
              "      <th></th>\n",
              "    </tr>\n",
              "  </thead>\n",
              "  <tbody>\n",
              "    <tr>\n",
              "      <th>300051</th>\n",
              "      <td>3</td>\n",
              "    </tr>\n",
              "    <tr>\n",
              "      <th>99355</th>\n",
              "      <td>2</td>\n",
              "    </tr>\n",
              "    <tr>\n",
              "      <th>890251</th>\n",
              "      <td>2</td>\n",
              "    </tr>\n",
              "    <tr>\n",
              "      <th>745817</th>\n",
              "      <td>1</td>\n",
              "    </tr>\n",
              "    <tr>\n",
              "      <th>421793</th>\n",
              "      <td>3</td>\n",
              "    </tr>\n",
              "  </tbody>\n",
              "</table>\n",
              "</div>\n",
              "      <button class=\"colab-df-convert\" onclick=\"convertToInteractive('df-db5247a9-e8f4-4607-adf5-da41e6a245f8')\"\n",
              "              title=\"Convert this dataframe to an interactive table.\"\n",
              "              style=\"display:none;\">\n",
              "        \n",
              "  <svg xmlns=\"http://www.w3.org/2000/svg\" height=\"24px\"viewBox=\"0 0 24 24\"\n",
              "       width=\"24px\">\n",
              "    <path d=\"M0 0h24v24H0V0z\" fill=\"none\"/>\n",
              "    <path d=\"M18.56 5.44l.94 2.06.94-2.06 2.06-.94-2.06-.94-.94-2.06-.94 2.06-2.06.94zm-11 1L8.5 8.5l.94-2.06 2.06-.94-2.06-.94L8.5 2.5l-.94 2.06-2.06.94zm10 10l.94 2.06.94-2.06 2.06-.94-2.06-.94-.94-2.06-.94 2.06-2.06.94z\"/><path d=\"M17.41 7.96l-1.37-1.37c-.4-.4-.92-.59-1.43-.59-.52 0-1.04.2-1.43.59L10.3 9.45l-7.72 7.72c-.78.78-.78 2.05 0 2.83L4 21.41c.39.39.9.59 1.41.59.51 0 1.02-.2 1.41-.59l7.78-7.78 2.81-2.81c.8-.78.8-2.07 0-2.86zM5.41 20L4 18.59l7.72-7.72 1.47 1.35L5.41 20z\"/>\n",
              "  </svg>\n",
              "      </button>\n",
              "      \n",
              "  <style>\n",
              "    .colab-df-container {\n",
              "      display:flex;\n",
              "      flex-wrap:wrap;\n",
              "      gap: 12px;\n",
              "    }\n",
              "\n",
              "    .colab-df-convert {\n",
              "      background-color: #E8F0FE;\n",
              "      border: none;\n",
              "      border-radius: 50%;\n",
              "      cursor: pointer;\n",
              "      display: none;\n",
              "      fill: #1967D2;\n",
              "      height: 32px;\n",
              "      padding: 0 0 0 0;\n",
              "      width: 32px;\n",
              "    }\n",
              "\n",
              "    .colab-df-convert:hover {\n",
              "      background-color: #E2EBFA;\n",
              "      box-shadow: 0px 1px 2px rgba(60, 64, 67, 0.3), 0px 1px 3px 1px rgba(60, 64, 67, 0.15);\n",
              "      fill: #174EA6;\n",
              "    }\n",
              "\n",
              "    [theme=dark] .colab-df-convert {\n",
              "      background-color: #3B4455;\n",
              "      fill: #D2E3FC;\n",
              "    }\n",
              "\n",
              "    [theme=dark] .colab-df-convert:hover {\n",
              "      background-color: #434B5C;\n",
              "      box-shadow: 0px 1px 3px 1px rgba(0, 0, 0, 0.15);\n",
              "      filter: drop-shadow(0px 1px 2px rgba(0, 0, 0, 0.3));\n",
              "      fill: #FFFFFF;\n",
              "    }\n",
              "  </style>\n",
              "\n",
              "      <script>\n",
              "        const buttonEl =\n",
              "          document.querySelector('#df-db5247a9-e8f4-4607-adf5-da41e6a245f8 button.colab-df-convert');\n",
              "        buttonEl.style.display =\n",
              "          google.colab.kernel.accessAllowed ? 'block' : 'none';\n",
              "\n",
              "        async function convertToInteractive(key) {\n",
              "          const element = document.querySelector('#df-db5247a9-e8f4-4607-adf5-da41e6a245f8');\n",
              "          const dataTable =\n",
              "            await google.colab.kernel.invokeFunction('convertToInteractive',\n",
              "                                                     [key], {});\n",
              "          if (!dataTable) return;\n",
              "\n",
              "          const docLinkHtml = 'Like what you see? Visit the ' +\n",
              "            '<a target=\"_blank\" href=https://colab.research.google.com/notebooks/data_table.ipynb>data table notebook</a>'\n",
              "            + ' to learn more about interactive tables.';\n",
              "          element.innerHTML = '';\n",
              "          dataTable['output_type'] = 'display_data';\n",
              "          await google.colab.output.renderOutput(dataTable, element);\n",
              "          const docLink = document.createElement('div');\n",
              "          docLink.innerHTML = docLinkHtml;\n",
              "          element.appendChild(docLink);\n",
              "        }\n",
              "      </script>\n",
              "    </div>\n",
              "  </div>\n",
              "  "
            ]
          },
          "metadata": {},
          "execution_count": 4
        }
      ]
    }
  ]
}