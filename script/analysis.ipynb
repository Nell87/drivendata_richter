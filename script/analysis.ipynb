{
  "nbformat": 4,
  "nbformat_minor": 0,
  "metadata": {
    "colab": {
      "provenance": [],
      "authorship_tag": "ABX9TyOaLD2ZQS/jJcaYFHGoV51N",
      "include_colab_link": true
    },
    "kernelspec": {
      "name": "python3",
      "display_name": "Python 3"
    },
    "language_info": {
      "name": "python"
    }
  },
  "cells": [
    {
      "cell_type": "markdown",
      "metadata": {
        "id": "view-in-github",
        "colab_type": "text"
      },
      "source": [
        "<a href=\"https://colab.research.google.com/github/Nell87/drivendata_richter/blob/main/script/analysis.ipynb\" target=\"_parent\"><img src=\"https://colab.research.google.com/assets/colab-badge.svg\" alt=\"Open In Colab\"/></a>"
      ]
    },
    {
      "cell_type": "code",
      "execution_count": null,
      "metadata": {
        "id": "meJDvOtLHB6E"
      },
      "outputs": [],
      "source": [
        "#### 0.   INCLUDES  _______________________________________ #### \n",
        "#Load Libraries:# \n",
        "import pandas as pd\n",
        "import os\n",
        "\n",
        "#### 1.   PREPARING DATA _______________________________________ #### \n"
      ]
    }
  ]
}