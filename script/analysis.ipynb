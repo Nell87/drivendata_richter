{
  "nbformat": 4,
  "nbformat_minor": 0,
  "metadata": {
    "colab": {
      "provenance": [],
      "authorship_tag": "ABX9TyOCIAbQmydOvJ669tFMaovG",
      "include_colab_link": true
    },
    "kernelspec": {
      "name": "python3",
      "display_name": "Python 3"
    },
    "language_info": {
      "name": "python"
    }
  },
  "cells": [
    {
      "cell_type": "markdown",
      "metadata": {
        "id": "view-in-github",
        "colab_type": "text"
      },
      "source": [
        "<a href=\"https://colab.research.google.com/github/Nell87/drivendata_richter/blob/main/script/analysis.ipynb\" target=\"_parent\"><img src=\"https://colab.research.google.com/assets/colab-badge.svg\" alt=\"Open In Colab\"/></a>"
      ]
    },
    {
      "cell_type": "markdown",
      "source": [
        "# **Overview**\n",
        "# **Automatic EDA**\n",
        "# **Manual EDA**\n",
        "## **Location features**"
      ],
      "metadata": {
        "id": "Dfx6wGPj6UAc"
      }
    },
    {
      "cell_type": "markdown",
      "source": [
        "# **Overview** \n",
        "Based on aspects of building location and construction, **our goal is to predict the level of damage to buildings** caused by the 2015 Gorkha earthquake in Nepal.\n",
        "\n",
        "The data was collected through surveys by Kathmandu Living Labs and the Central Bureau of Statistics, which works under the National Planning Commission Secretariat of Nepal. This survey is one of the largest post-disaster datasets ever collected, containing valuable information on earthquake impacts, household conditions, and socio-economic-demographic statistics."
      ],
      "metadata": {
        "id": "4yUhJmgAMtrl"
      }
    },
    {
      "cell_type": "code",
      "execution_count": 22,
      "metadata": {
        "id": "meJDvOtLHB6E",
        "colab": {
          "base_uri": "https://localhost:8080/"
        },
        "outputId": "c7cd7390-38f4-4523-ad11-807a48cbaf08"
      },
      "outputs": [
        {
          "output_type": "stream",
          "name": "stdout",
          "text": [
            "(260601, 40)\n"
          ]
        }
      ],
      "source": [
        "####    INCLUDES  _______________________________________ #### \n",
        "#Loading Libraries:# \n",
        "import pandas as pd\n",
        "import os\n",
        "import numpy as np\n",
        "import seaborn as sns\n",
        "import matplotlib.pyplot as plt\n",
        "\n",
        "####    READING TRAIN AND TEST DATA _______________________________________ #### \n",
        "train_values = data = pd.read_csv(\"https://raw.githubusercontent.com/Nell87/drivendata_richter/main/data/train_values.csv\")\n",
        "train_labels = pd.read_csv(\"https://raw.githubusercontent.com/Nell87/drivendata_richter/main/data/train_labels.csv\")\n",
        "test_values = pd.read_csv(\"https://raw.githubusercontent.com/Nell87/drivendata_richter/main/data/test_values.csv\")\n",
        "train_merge = train_values.merge(train_labels, on = 'building_id', how = 'inner',)\n",
        "print(train_merge.shape)"
      ]
    },
    {
      "cell_type": "markdown",
      "source": [
        "# **Automatic EDA**\n",
        "An useful Python module to quickly do an exploratory analysis is \"Pandas Profiling\". With just a few lines of code you obtain an interactive report with an overview and alerts. \n",
        "\n",
        "In this report we can confirm that there aren't missing values or duplicates. \n",
        "\n",
        "```\n",
        "# Install the python module\n",
        "pip install pandas_profiling\n",
        "\n",
        "# Import Pandas Profiling\n",
        "from pandas_profiling import ProfileReport\n",
        "\n",
        "# Generate the report\n",
        "profile = ProfileReport(train_merge, title=\"Profiling Report\")\n",
        "\n",
        "# Export the report to html file\n",
        "profile.to_file(\"Profiling Report.html\")\n",
        "```\n",
        "\n",
        "![](https://drive.google.com/uc?export=view&id=1QW5kZvHvB_kogLVbw1fqudesqpWO57SR)"
      ],
      "metadata": {
        "id": "VIjZn9W4ODld"
      }
    },
    {
      "cell_type": "markdown",
      "source": [
        "# **Manual EDA**\n",
        "After generating the automatic EDA, let's manually analyze interesting features that could have an impact when building our model. \n",
        "\n",
        "The dataset has information about the building structure, use cases, area, location, age and legal ownership. Each row represents a specific building in the region that was hit by Gorkha earthquake.The train dataset has 260,601 rows and the test dataset has 86,868 rows. Both have 39 features to predict the level of damage to every building (the damage_grade feature)."
      ],
      "metadata": {
        "id": "YzMmPQup4oeK"
      }
    },
    {
      "cell_type": "code",
      "source": [
        "train_merge.describe()\n"
      ],
      "metadata": {
        "colab": {
          "base_uri": "https://localhost:8080/",
          "height": 393
        },
        "id": "q-VOwWsk7MeW",
        "outputId": "5648bb09-d122-45b9-9a14-c3f6c25a90fe"
      },
      "execution_count": 18,
      "outputs": [
        {
          "output_type": "execute_result",
          "data": {
            "text/plain": [
              "        building_id  geo_level_1_id  geo_level_2_id  geo_level_3_id  \\\n",
              "count  2.606010e+05   260601.000000   260601.000000   260601.000000   \n",
              "mean   5.256755e+05       13.900353      701.074685     6257.876148   \n",
              "std    3.045450e+05        8.033617      412.710734     3646.369645   \n",
              "min    4.000000e+00        0.000000        0.000000        0.000000   \n",
              "25%    2.611900e+05        7.000000      350.000000     3073.000000   \n",
              "50%    5.257570e+05       12.000000      702.000000     6270.000000   \n",
              "75%    7.897620e+05       21.000000     1050.000000     9412.000000   \n",
              "max    1.052934e+06       30.000000     1427.000000    12567.000000   \n",
              "\n",
              "       count_floors_pre_eq            age  area_percentage  height_percentage  \\\n",
              "count        260601.000000  260601.000000    260601.000000      260601.000000   \n",
              "mean              2.129723      26.535029         8.018051           5.434365   \n",
              "std               0.727665      73.565937         4.392231           1.918418   \n",
              "min               1.000000       0.000000         1.000000           2.000000   \n",
              "25%               2.000000      10.000000         5.000000           4.000000   \n",
              "50%               2.000000      15.000000         7.000000           5.000000   \n",
              "75%               2.000000      30.000000         9.000000           6.000000   \n",
              "max               9.000000     995.000000       100.000000          32.000000   \n",
              "\n",
              "       has_superstructure_adobe_mud  has_superstructure_mud_mortar_stone  ...  \\\n",
              "count                 260601.000000                        260601.000000  ...   \n",
              "mean                       0.088645                             0.761935  ...   \n",
              "std                        0.284231                             0.425900  ...   \n",
              "min                        0.000000                             0.000000  ...   \n",
              "25%                        0.000000                             1.000000  ...   \n",
              "50%                        0.000000                             1.000000  ...   \n",
              "75%                        0.000000                             1.000000  ...   \n",
              "max                        1.000000                             1.000000  ...   \n",
              "\n",
              "       has_secondary_use_hotel  has_secondary_use_rental  \\\n",
              "count            260601.000000             260601.000000   \n",
              "mean                  0.033626                  0.008101   \n",
              "std                   0.180265                  0.089638   \n",
              "min                   0.000000                  0.000000   \n",
              "25%                   0.000000                  0.000000   \n",
              "50%                   0.000000                  0.000000   \n",
              "75%                   0.000000                  0.000000   \n",
              "max                   1.000000                  1.000000   \n",
              "\n",
              "       has_secondary_use_institution  has_secondary_use_school  \\\n",
              "count                  260601.000000             260601.000000   \n",
              "mean                        0.000940                  0.000361   \n",
              "std                         0.030647                  0.018989   \n",
              "min                         0.000000                  0.000000   \n",
              "25%                         0.000000                  0.000000   \n",
              "50%                         0.000000                  0.000000   \n",
              "75%                         0.000000                  0.000000   \n",
              "max                         1.000000                  1.000000   \n",
              "\n",
              "       has_secondary_use_industry  has_secondary_use_health_post  \\\n",
              "count               260601.000000                  260601.000000   \n",
              "mean                     0.001071                       0.000188   \n",
              "std                      0.032703                       0.013711   \n",
              "min                      0.000000                       0.000000   \n",
              "25%                      0.000000                       0.000000   \n",
              "50%                      0.000000                       0.000000   \n",
              "75%                      0.000000                       0.000000   \n",
              "max                      1.000000                       1.000000   \n",
              "\n",
              "       has_secondary_use_gov_office  has_secondary_use_use_police  \\\n",
              "count                 260601.000000                 260601.000000   \n",
              "mean                       0.000146                      0.000088   \n",
              "std                        0.012075                      0.009394   \n",
              "min                        0.000000                      0.000000   \n",
              "25%                        0.000000                      0.000000   \n",
              "50%                        0.000000                      0.000000   \n",
              "75%                        0.000000                      0.000000   \n",
              "max                        1.000000                      1.000000   \n",
              "\n",
              "       has_secondary_use_other   damage_grade  \n",
              "count            260601.000000  260601.000000  \n",
              "mean                  0.005119       2.238272  \n",
              "std                   0.071364       0.611814  \n",
              "min                   0.000000       1.000000  \n",
              "25%                   0.000000       2.000000  \n",
              "50%                   0.000000       2.000000  \n",
              "75%                   0.000000       3.000000  \n",
              "max                   1.000000       3.000000  \n",
              "\n",
              "[8 rows x 32 columns]"
            ],
            "text/html": [
              "\n",
              "  <div id=\"df-8cdf7347-ff74-45ab-981a-426bbee51eec\">\n",
              "    <div class=\"colab-df-container\">\n",
              "      <div>\n",
              "<style scoped>\n",
              "    .dataframe tbody tr th:only-of-type {\n",
              "        vertical-align: middle;\n",
              "    }\n",
              "\n",
              "    .dataframe tbody tr th {\n",
              "        vertical-align: top;\n",
              "    }\n",
              "\n",
              "    .dataframe thead th {\n",
              "        text-align: right;\n",
              "    }\n",
              "</style>\n",
              "<table border=\"1\" class=\"dataframe\">\n",
              "  <thead>\n",
              "    <tr style=\"text-align: right;\">\n",
              "      <th></th>\n",
              "      <th>building_id</th>\n",
              "      <th>geo_level_1_id</th>\n",
              "      <th>geo_level_2_id</th>\n",
              "      <th>geo_level_3_id</th>\n",
              "      <th>count_floors_pre_eq</th>\n",
              "      <th>age</th>\n",
              "      <th>area_percentage</th>\n",
              "      <th>height_percentage</th>\n",
              "      <th>has_superstructure_adobe_mud</th>\n",
              "      <th>has_superstructure_mud_mortar_stone</th>\n",
              "      <th>...</th>\n",
              "      <th>has_secondary_use_hotel</th>\n",
              "      <th>has_secondary_use_rental</th>\n",
              "      <th>has_secondary_use_institution</th>\n",
              "      <th>has_secondary_use_school</th>\n",
              "      <th>has_secondary_use_industry</th>\n",
              "      <th>has_secondary_use_health_post</th>\n",
              "      <th>has_secondary_use_gov_office</th>\n",
              "      <th>has_secondary_use_use_police</th>\n",
              "      <th>has_secondary_use_other</th>\n",
              "      <th>damage_grade</th>\n",
              "    </tr>\n",
              "  </thead>\n",
              "  <tbody>\n",
              "    <tr>\n",
              "      <th>count</th>\n",
              "      <td>2.606010e+05</td>\n",
              "      <td>260601.000000</td>\n",
              "      <td>260601.000000</td>\n",
              "      <td>260601.000000</td>\n",
              "      <td>260601.000000</td>\n",
              "      <td>260601.000000</td>\n",
              "      <td>260601.000000</td>\n",
              "      <td>260601.000000</td>\n",
              "      <td>260601.000000</td>\n",
              "      <td>260601.000000</td>\n",
              "      <td>...</td>\n",
              "      <td>260601.000000</td>\n",
              "      <td>260601.000000</td>\n",
              "      <td>260601.000000</td>\n",
              "      <td>260601.000000</td>\n",
              "      <td>260601.000000</td>\n",
              "      <td>260601.000000</td>\n",
              "      <td>260601.000000</td>\n",
              "      <td>260601.000000</td>\n",
              "      <td>260601.000000</td>\n",
              "      <td>260601.000000</td>\n",
              "    </tr>\n",
              "    <tr>\n",
              "      <th>mean</th>\n",
              "      <td>5.256755e+05</td>\n",
              "      <td>13.900353</td>\n",
              "      <td>701.074685</td>\n",
              "      <td>6257.876148</td>\n",
              "      <td>2.129723</td>\n",
              "      <td>26.535029</td>\n",
              "      <td>8.018051</td>\n",
              "      <td>5.434365</td>\n",
              "      <td>0.088645</td>\n",
              "      <td>0.761935</td>\n",
              "      <td>...</td>\n",
              "      <td>0.033626</td>\n",
              "      <td>0.008101</td>\n",
              "      <td>0.000940</td>\n",
              "      <td>0.000361</td>\n",
              "      <td>0.001071</td>\n",
              "      <td>0.000188</td>\n",
              "      <td>0.000146</td>\n",
              "      <td>0.000088</td>\n",
              "      <td>0.005119</td>\n",
              "      <td>2.238272</td>\n",
              "    </tr>\n",
              "    <tr>\n",
              "      <th>std</th>\n",
              "      <td>3.045450e+05</td>\n",
              "      <td>8.033617</td>\n",
              "      <td>412.710734</td>\n",
              "      <td>3646.369645</td>\n",
              "      <td>0.727665</td>\n",
              "      <td>73.565937</td>\n",
              "      <td>4.392231</td>\n",
              "      <td>1.918418</td>\n",
              "      <td>0.284231</td>\n",
              "      <td>0.425900</td>\n",
              "      <td>...</td>\n",
              "      <td>0.180265</td>\n",
              "      <td>0.089638</td>\n",
              "      <td>0.030647</td>\n",
              "      <td>0.018989</td>\n",
              "      <td>0.032703</td>\n",
              "      <td>0.013711</td>\n",
              "      <td>0.012075</td>\n",
              "      <td>0.009394</td>\n",
              "      <td>0.071364</td>\n",
              "      <td>0.611814</td>\n",
              "    </tr>\n",
              "    <tr>\n",
              "      <th>min</th>\n",
              "      <td>4.000000e+00</td>\n",
              "      <td>0.000000</td>\n",
              "      <td>0.000000</td>\n",
              "      <td>0.000000</td>\n",
              "      <td>1.000000</td>\n",
              "      <td>0.000000</td>\n",
              "      <td>1.000000</td>\n",
              "      <td>2.000000</td>\n",
              "      <td>0.000000</td>\n",
              "      <td>0.000000</td>\n",
              "      <td>...</td>\n",
              "      <td>0.000000</td>\n",
              "      <td>0.000000</td>\n",
              "      <td>0.000000</td>\n",
              "      <td>0.000000</td>\n",
              "      <td>0.000000</td>\n",
              "      <td>0.000000</td>\n",
              "      <td>0.000000</td>\n",
              "      <td>0.000000</td>\n",
              "      <td>0.000000</td>\n",
              "      <td>1.000000</td>\n",
              "    </tr>\n",
              "    <tr>\n",
              "      <th>25%</th>\n",
              "      <td>2.611900e+05</td>\n",
              "      <td>7.000000</td>\n",
              "      <td>350.000000</td>\n",
              "      <td>3073.000000</td>\n",
              "      <td>2.000000</td>\n",
              "      <td>10.000000</td>\n",
              "      <td>5.000000</td>\n",
              "      <td>4.000000</td>\n",
              "      <td>0.000000</td>\n",
              "      <td>1.000000</td>\n",
              "      <td>...</td>\n",
              "      <td>0.000000</td>\n",
              "      <td>0.000000</td>\n",
              "      <td>0.000000</td>\n",
              "      <td>0.000000</td>\n",
              "      <td>0.000000</td>\n",
              "      <td>0.000000</td>\n",
              "      <td>0.000000</td>\n",
              "      <td>0.000000</td>\n",
              "      <td>0.000000</td>\n",
              "      <td>2.000000</td>\n",
              "    </tr>\n",
              "    <tr>\n",
              "      <th>50%</th>\n",
              "      <td>5.257570e+05</td>\n",
              "      <td>12.000000</td>\n",
              "      <td>702.000000</td>\n",
              "      <td>6270.000000</td>\n",
              "      <td>2.000000</td>\n",
              "      <td>15.000000</td>\n",
              "      <td>7.000000</td>\n",
              "      <td>5.000000</td>\n",
              "      <td>0.000000</td>\n",
              "      <td>1.000000</td>\n",
              "      <td>...</td>\n",
              "      <td>0.000000</td>\n",
              "      <td>0.000000</td>\n",
              "      <td>0.000000</td>\n",
              "      <td>0.000000</td>\n",
              "      <td>0.000000</td>\n",
              "      <td>0.000000</td>\n",
              "      <td>0.000000</td>\n",
              "      <td>0.000000</td>\n",
              "      <td>0.000000</td>\n",
              "      <td>2.000000</td>\n",
              "    </tr>\n",
              "    <tr>\n",
              "      <th>75%</th>\n",
              "      <td>7.897620e+05</td>\n",
              "      <td>21.000000</td>\n",
              "      <td>1050.000000</td>\n",
              "      <td>9412.000000</td>\n",
              "      <td>2.000000</td>\n",
              "      <td>30.000000</td>\n",
              "      <td>9.000000</td>\n",
              "      <td>6.000000</td>\n",
              "      <td>0.000000</td>\n",
              "      <td>1.000000</td>\n",
              "      <td>...</td>\n",
              "      <td>0.000000</td>\n",
              "      <td>0.000000</td>\n",
              "      <td>0.000000</td>\n",
              "      <td>0.000000</td>\n",
              "      <td>0.000000</td>\n",
              "      <td>0.000000</td>\n",
              "      <td>0.000000</td>\n",
              "      <td>0.000000</td>\n",
              "      <td>0.000000</td>\n",
              "      <td>3.000000</td>\n",
              "    </tr>\n",
              "    <tr>\n",
              "      <th>max</th>\n",
              "      <td>1.052934e+06</td>\n",
              "      <td>30.000000</td>\n",
              "      <td>1427.000000</td>\n",
              "      <td>12567.000000</td>\n",
              "      <td>9.000000</td>\n",
              "      <td>995.000000</td>\n",
              "      <td>100.000000</td>\n",
              "      <td>32.000000</td>\n",
              "      <td>1.000000</td>\n",
              "      <td>1.000000</td>\n",
              "      <td>...</td>\n",
              "      <td>1.000000</td>\n",
              "      <td>1.000000</td>\n",
              "      <td>1.000000</td>\n",
              "      <td>1.000000</td>\n",
              "      <td>1.000000</td>\n",
              "      <td>1.000000</td>\n",
              "      <td>1.000000</td>\n",
              "      <td>1.000000</td>\n",
              "      <td>1.000000</td>\n",
              "      <td>3.000000</td>\n",
              "    </tr>\n",
              "  </tbody>\n",
              "</table>\n",
              "<p>8 rows × 32 columns</p>\n",
              "</div>\n",
              "      <button class=\"colab-df-convert\" onclick=\"convertToInteractive('df-8cdf7347-ff74-45ab-981a-426bbee51eec')\"\n",
              "              title=\"Convert this dataframe to an interactive table.\"\n",
              "              style=\"display:none;\">\n",
              "        \n",
              "  <svg xmlns=\"http://www.w3.org/2000/svg\" height=\"24px\"viewBox=\"0 0 24 24\"\n",
              "       width=\"24px\">\n",
              "    <path d=\"M0 0h24v24H0V0z\" fill=\"none\"/>\n",
              "    <path d=\"M18.56 5.44l.94 2.06.94-2.06 2.06-.94-2.06-.94-.94-2.06-.94 2.06-2.06.94zm-11 1L8.5 8.5l.94-2.06 2.06-.94-2.06-.94L8.5 2.5l-.94 2.06-2.06.94zm10 10l.94 2.06.94-2.06 2.06-.94-2.06-.94-.94-2.06-.94 2.06-2.06.94z\"/><path d=\"M17.41 7.96l-1.37-1.37c-.4-.4-.92-.59-1.43-.59-.52 0-1.04.2-1.43.59L10.3 9.45l-7.72 7.72c-.78.78-.78 2.05 0 2.83L4 21.41c.39.39.9.59 1.41.59.51 0 1.02-.2 1.41-.59l7.78-7.78 2.81-2.81c.8-.78.8-2.07 0-2.86zM5.41 20L4 18.59l7.72-7.72 1.47 1.35L5.41 20z\"/>\n",
              "  </svg>\n",
              "      </button>\n",
              "      \n",
              "  <style>\n",
              "    .colab-df-container {\n",
              "      display:flex;\n",
              "      flex-wrap:wrap;\n",
              "      gap: 12px;\n",
              "    }\n",
              "\n",
              "    .colab-df-convert {\n",
              "      background-color: #E8F0FE;\n",
              "      border: none;\n",
              "      border-radius: 50%;\n",
              "      cursor: pointer;\n",
              "      display: none;\n",
              "      fill: #1967D2;\n",
              "      height: 32px;\n",
              "      padding: 0 0 0 0;\n",
              "      width: 32px;\n",
              "    }\n",
              "\n",
              "    .colab-df-convert:hover {\n",
              "      background-color: #E2EBFA;\n",
              "      box-shadow: 0px 1px 2px rgba(60, 64, 67, 0.3), 0px 1px 3px 1px rgba(60, 64, 67, 0.15);\n",
              "      fill: #174EA6;\n",
              "    }\n",
              "\n",
              "    [theme=dark] .colab-df-convert {\n",
              "      background-color: #3B4455;\n",
              "      fill: #D2E3FC;\n",
              "    }\n",
              "\n",
              "    [theme=dark] .colab-df-convert:hover {\n",
              "      background-color: #434B5C;\n",
              "      box-shadow: 0px 1px 3px 1px rgba(0, 0, 0, 0.15);\n",
              "      filter: drop-shadow(0px 1px 2px rgba(0, 0, 0, 0.3));\n",
              "      fill: #FFFFFF;\n",
              "    }\n",
              "  </style>\n",
              "\n",
              "      <script>\n",
              "        const buttonEl =\n",
              "          document.querySelector('#df-8cdf7347-ff74-45ab-981a-426bbee51eec button.colab-df-convert');\n",
              "        buttonEl.style.display =\n",
              "          google.colab.kernel.accessAllowed ? 'block' : 'none';\n",
              "\n",
              "        async function convertToInteractive(key) {\n",
              "          const element = document.querySelector('#df-8cdf7347-ff74-45ab-981a-426bbee51eec');\n",
              "          const dataTable =\n",
              "            await google.colab.kernel.invokeFunction('convertToInteractive',\n",
              "                                                     [key], {});\n",
              "          if (!dataTable) return;\n",
              "\n",
              "          const docLinkHtml = 'Like what you see? Visit the ' +\n",
              "            '<a target=\"_blank\" href=https://colab.research.google.com/notebooks/data_table.ipynb>data table notebook</a>'\n",
              "            + ' to learn more about interactive tables.';\n",
              "          element.innerHTML = '';\n",
              "          dataTable['output_type'] = 'display_data';\n",
              "          await google.colab.output.renderOutput(dataTable, element);\n",
              "          const docLink = document.createElement('div');\n",
              "          docLink.innerHTML = docLinkHtml;\n",
              "          element.appendChild(docLink);\n",
              "        }\n",
              "      </script>\n",
              "    </div>\n",
              "  </div>\n",
              "  "
            ]
          },
          "metadata": {},
          "execution_count": 18
        }
      ]
    },
    {
      "cell_type": "markdown",
      "source": [
        "## **Manual EDA: Target feature or damage_grade**\n",
        "Almost 60% of the buildings suffer a medium amount of damage, followed by high with around 30% and low with around 10%. Therefore, we deal with imbalanced data. It makes sense since the earthquake had a strong magnitude, 7.8,  in a country where the buildings are more prone to be weak in structure. In a richer country, like Japan or California, earquakes of this magnitude is not usually a giant disaster."
      ],
      "metadata": {
        "id": "3CK7MuS56iqu"
      }
    },
    {
      "cell_type": "code",
      "source": [
        "train_merge['damage_grade'].value_counts(normalize=True) * 100     # High 33.46, Medium 56.90, Low 9.64\n"
      ],
      "metadata": {
        "id": "FJAmP24H69ZG"
      },
      "execution_count": null,
      "outputs": []
    },
    {
      "cell_type": "code",
      "source": [
        "# Add labels\n",
        "damage_map = {1:\"Low\", 2:\"Medium\", 3:\"High\"}\n",
        "train_merge[\"damage_grade\"] = train_merge[\"damage_grade\"].map(damage_map)\n",
        "\n",
        "sns.countplot(x=\"damage_grade\", data=train_merge)\n",
        "plt.title(\"Damage grade\")\n",
        "plt.ylabel('Frequency')\n",
        "plt.show()"
      ],
      "metadata": {
        "colab": {
          "base_uri": "https://localhost:8080/",
          "height": 296
        },
        "id": "Yw42w6466lEH",
        "outputId": "d02d15b5-e4df-400b-e948-1125c104cc4c"
      },
      "execution_count": 24,
      "outputs": [
        {
          "output_type": "display_data",
          "data": {
            "text/plain": [
              "<Figure size 432x288 with 1 Axes>"
            ],
            "image/png": "[encoded data removed]"
          },
          "metadata": {
            "needs_background": "light"
          }
        }
      ]
    },
    {
      "cell_type": "markdown",
      "source": [
        "## **Manual EDA: Location features**\n",
        "We "
      ],
      "metadata": {
        "id": "4LsamvQb67eO"
      }
    },
    {
      "cell_type": "code",
      "source": [],
      "metadata": {
        "id": "vsrxLfSeezf2"
      },
      "execution_count": null,
      "outputs": []
    },
    {
      "cell_type": "markdown",
      "source": [
        "## **Manual EDA: Materials used features**\n"
      ],
      "metadata": {
        "id": "Tv5z5kHo69re"
      }
    },
    {
      "cell_type": "code",
      "source": [
        "plot = sns.countplot(x=\"damage_grade\", data=train_labels)\n",
        "plt.title(\"Damage grade\")\n",
        "plt.show()"
      ],
      "metadata": {
        "colab": {
          "base_uri": "https://localhost:8080/",
          "height": 296
        },
        "id": "5igKVsKy7G_p",
        "outputId": "99585ef0-b6ab-48df-d1fb-c3e12c32c4f8"
      },
      "execution_count": 37,
      "outputs": [
        {
          "output_type": "display_data",
          "data": {
            "text/plain": [
              "<Figure size 432x288 with 1 Axes>"
            ],
            "image/png": "[encoded data removed]"
          },
          "metadata": {
            "needs_background": "light"
          }
        }
      ]
    },
    {
      "cell_type": "markdown",
      "source": [
        "## **Manual EDA: Others features**\n"
      ],
      "metadata": {
        "id": "_EdN5CJU7HUz"
      }
    },
    {
      "cell_type": "code",
      "source": [],
      "metadata": {
        "id": "1WQ8s47a7z1j"
      },
      "execution_count": null,
      "outputs": []
    }
  ]
}